{
 "cells": [
  {
   "cell_type": "markdown",
   "id": "eb3b0fe5",
   "metadata": {},
   "source": [
    "#### Technology and Data\n",
    "This project was implemented primarily in Jupyter Notebook using geopandas, as well as other standard Python libraries like pandas, matplotlib, seaborn, etc.\n",
    "\n",
    "The following datasets were utilied in the analysis needed for this project, however, given the large sizes of these data files, only the final processed file has been uploaded to the repository. The following sources can be utilized to access the underlying raw data. \n",
    "\n",
    "* <b>Census.gov geospatial datafiles: </b>The main dataset for this project is geospatial data identifying each census tract in the contiguous US. Geospatial data stores information about various locations via their latitude and longitude or through geometric shape objects. For example, each census tract in this dataset would be represented by its geometric shape. Census tracts are subdivisions within each county, varying in spatial size based on underlying population density.All the analysis in this project has been conducted at the census tract level. All relevant data has been sourced from [census.gov](https://www2.census.gov/geo/tiger/GENZ2022/shp/cb_2022_us_tract_5m.zip)\n",
    "\n",
    "* <b>Data on Coastal Counties:</b> The scope of this project is limited to impact of rising sea levels, therefore the geospatial database has been reduced to only those counties that are along the coastline of the contiguous US. This reduced dataset is used for all the analysis performed in this project. The relavent coastal counties have been sourced from [census.gov](https://www2.census.gov/library/stories/2018/08/coastline-counties-list.xlsx)\n",
    "\n",
    "* <b>FEMA dataset:</b> The Federal Emergency Management Agency (FEMA) has identified regions that are more suseptible to the risk of flooding (FEMA floodplains). These regions are narrowed down further to hone in on those regions that interset with the coastal counties to identify regions suseptible to <i>coastal</i> flooding in particular. Of these, the regions that FEMA has flagged as either \"High\" or \"Very High\" risk are merged into the master geosptial dataset. Given that FEMA floodzones are a relatively well known concept, these regions are considered \"Current High Risk\" as opposed to SLR zones explained below that are considered \"Emerging Risk\". The data for this project was sourced from [FEMA National Risk Index (NRI)](https://hazards.fema.gov/nri/) and all analysis has been performed at the census tract level.\n",
    "\n",
    "* <b> NOAA.gov SLR geospatial data: </b> The National Oceanic and Atmospheric Administration (NOAA) has identified coastal plains with the US that would be impacted at various levels of sea level rise. This project analyzes the regional impacts for sea levels rising 1 foot through 7 feet by 2100 (compared to 2000 sea levels). The SLR is analyzed over three scenarios - Baseline (2ft), Adverse (4ft) and Severely Adverse (7ft) in line with the 2022 NOAA SLR Technical Report scenarios of Low, Intermediate and High SLR for the contiguous US.Note that given the complexity of the geospatial data (identification and extraction of the geospatial layer for each region, spatial joins on multi polygon shapes), these functions take several hours to run for each scenario. Therefore, in the pre-processing stage, the relevant files are written to disk once processed (see Preprocessing_SLR.ipynb). The preprocessed files are being read in directly Analysis_and_Visualization.ipynb file. All the relevant files were sourced from [NOAA.gov](https://coast.noaa.gov/slrdata/)"
   ]
  }
 ],
 "metadata": {
  "kernelspec": {
   "display_name": "Python 3 (ipykernel)",
   "language": "python",
   "name": "python3"
  },
  "language_info": {
   "codemirror_mode": {
    "name": "ipython",
    "version": 3
   },
   "file_extension": ".py",
   "mimetype": "text/x-python",
   "name": "python",
   "nbconvert_exporter": "python",
   "pygments_lexer": "ipython3",
   "version": "3.9.18"
  }
 },
 "nbformat": 4,
 "nbformat_minor": 5
}
